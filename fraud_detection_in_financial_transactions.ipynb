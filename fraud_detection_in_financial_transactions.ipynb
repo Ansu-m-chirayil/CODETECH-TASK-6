{
  "cells": [
    {
      "cell_type": "markdown",
      "metadata": {
        "id": "av9BEWOaFa1n"
      },
      "source": [
        "**Title:** Fraud Detection in Financial Transactions Using Machine Learning"
      ]
    },
    {
      "cell_type": "markdown",
      "metadata": {
        "id": "p2zy7pveIQul"
      },
      "source": [
        "**Objective:**\n",
        "\n",
        "Develop a robust fraud detection system leveraging machine learning techniques to identify fraudulent transactions within financial datasets. The system should efficiently detect anomalies and potentially fraudulent activities to mitigate financial losses and enhance security."
      ]
    },
    {
      "cell_type": "markdown",
      "metadata": {
        "id": "Jxv15NKUIao1"
      },
      "source": [
        "**Background:**\n",
        "\n",
        "Financial fraud is a significant issue for institutions and consumers alike. With the increasing volume of online transactions, it becomes imperative to have automated systems that can identify and flag fraudulent transactions in real-time. Traditional methods of fraud detection often fall short due to the evolving nature of fraudulent techniques. Therefore, machine learning-based systems are essential for their ability to learn from historical data and identify patterns indicative of fraud."
      ]
    },
    {
      "cell_type": "markdown",
      "metadata": {
        "id": "_bC9N6jnJo23"
      },
      "source": [
        "**IMPORTING** **LIBRARIES**"
      ]
    },
    {
      "cell_type": "code",
      "execution_count": 1,
      "metadata": {
        "id": "J1g25Cih-niv"
      },
      "outputs": [],
      "source": [
        "import numpy as np\n",
        "import pandas as pd\n",
        "import matplotlib.pyplot as plt\n",
        "import seaborn as sns\n",
        "from sklearn.model_selection import train_test_split\n",
        "from sklearn.preprocessing import StandardScaler\n",
        "from sklearn.metrics import classification_report, accuracy_score\n",
        "from sklearn.linear_model import LogisticRegression\n",
        "from sklearn.metrics import accuracy_score, confusion_matrix, classification_report\n",
        "from pylab import rcParams\n",
        "from imblearn.combine import SMOTETomek\n",
        "from imblearn.under_sampling import NearMiss\n",
        "from collections import Counter"
      ]
    },
    {
      "cell_type": "code",
      "execution_count": 2,
      "metadata": {
        "id": "vrQAaZT-bwi_"
      },
      "outputs": [],
      "source": [
        "# Setting plot parameters\n",
        "rcParams['figure.figsize'] = 14, 8\n",
        "RANDOM_SEED = 42\n",
        "LABELS = [\"Normal\", \"Fraud\"]"
      ]
    },
    {
      "cell_type": "markdown",
      "metadata": {
        "id": "BmpKTr8JM9ej"
      },
      "source": [
        "**The Exploratory Data Analysis (EDA) **"
      ]
    },
    {
      "cell_type": "code",
      "execution_count": 3,
      "metadata": {
        "id": "3YJBC-AwJ5uO"
      },
      "outputs": [],
      "source": [
        "# Load the dataset\n",
        "file_path = '/content/creditcard_2023.csv'\n",
        "df = pd.read_csv(file_path)"
      ]
    },
    {
      "cell_type": "code",
      "execution_count": 4,
      "metadata": {
        "colab": {
          "base_uri": "https://localhost:8080/"
        },
        "id": "GNyTKvvIKRmo",
        "outputId": "54ef5ce3-ad1f-44ff-d4ff-f983d2008a86"
      },
      "outputs": [
        {
          "output_type": "stream",
          "name": "stdout",
          "text": [
            "Dataset Information:\n",
            "<class 'pandas.core.frame.DataFrame'>\n",
            "RangeIndex: 12882 entries, 0 to 12881\n",
            "Data columns (total 31 columns):\n",
            " #   Column  Non-Null Count  Dtype  \n",
            "---  ------  --------------  -----  \n",
            " 0   id      12882 non-null  int64  \n",
            " 1   V1      12882 non-null  float64\n",
            " 2   V2      12882 non-null  float64\n",
            " 3   V3      12882 non-null  float64\n",
            " 4   V4      12882 non-null  float64\n",
            " 5   V5      12882 non-null  float64\n",
            " 6   V6      12882 non-null  float64\n",
            " 7   V7      12882 non-null  float64\n",
            " 8   V8      12882 non-null  float64\n",
            " 9   V9      12882 non-null  float64\n",
            " 10  V10     12882 non-null  float64\n",
            " 11  V11     12882 non-null  float64\n",
            " 12  V12     12882 non-null  float64\n",
            " 13  V13     12882 non-null  float64\n",
            " 14  V14     12882 non-null  float64\n",
            " 15  V15     12882 non-null  float64\n",
            " 16  V16     12882 non-null  float64\n",
            " 17  V17     12882 non-null  float64\n",
            " 18  V18     12882 non-null  float64\n",
            " 19  V19     12882 non-null  float64\n",
            " 20  V20     12882 non-null  float64\n",
            " 21  V21     12882 non-null  float64\n",
            " 22  V22     12882 non-null  float64\n",
            " 23  V23     12882 non-null  float64\n",
            " 24  V24     12882 non-null  float64\n",
            " 25  V25     12882 non-null  float64\n",
            " 26  V26     12882 non-null  float64\n",
            " 27  V27     12882 non-null  float64\n",
            " 28  V28     12881 non-null  float64\n",
            " 29  Amount  12881 non-null  float64\n",
            " 30  Class   12881 non-null  float64\n",
            "dtypes: float64(30), int64(1)\n",
            "memory usage: 3.0 MB\n",
            "None\n"
          ]
        }
      ],
      "source": [
        "# Display basic information about the dataset\n",
        "print(\"Dataset Information:\")\n",
        "print(df.info())"
      ]
    },
    {
      "cell_type": "code",
      "execution_count": 5,
      "metadata": {
        "colab": {
          "base_uri": "https://localhost:8080/"
        },
        "id": "EJzXTZDvKW9u",
        "outputId": "3e35c975-5624-4d8a-9d04-9c80fe099547"
      },
      "outputs": [
        {
          "output_type": "stream",
          "name": "stdout",
          "text": [
            "\n",
            "First few rows of the dataset:\n",
            "   id        V1        V2        V3        V4        V5        V6        V7  \\\n",
            "0   0 -0.260648 -0.469648  2.496266 -0.083724  0.129681  0.732898  0.519014   \n",
            "1   1  0.985100 -0.356045  0.558056 -0.429654  0.277140  0.428605  0.406466   \n",
            "2   2 -0.260272 -0.949385  1.728538 -0.457986  0.074062  1.419481  0.743511   \n",
            "3   3 -0.152152 -0.508959  1.746840 -1.090178  0.249486  1.143312  0.518269   \n",
            "4   4 -0.206820 -0.165280  1.527053 -0.448293  0.106125  0.530549  0.658849   \n",
            "\n",
            "         V8        V9  ...       V21       V22       V23       V24       V25  \\\n",
            "0 -0.130006  0.727159  ... -0.110552  0.217606 -0.134794  0.165959  0.126280   \n",
            "1 -0.133118  0.347452  ... -0.194936 -0.605761  0.079469 -0.577395  0.190090   \n",
            "2 -0.095576 -0.261297  ... -0.005020  0.702906  0.945045 -1.154666 -0.605564   \n",
            "3 -0.065130 -0.205698  ... -0.146927 -0.038212 -0.214048 -1.893131  1.003963   \n",
            "4 -0.212660  1.049921  ... -0.106984  0.729727 -0.161666  0.312561 -0.414116   \n",
            "\n",
            "        V26       V27       V28    Amount  Class  \n",
            "0 -0.434824 -0.081230 -0.151045  17982.10    0.0  \n",
            "1  0.296503 -0.248052 -0.064512   6531.37    0.0  \n",
            "2 -0.312895 -0.300258 -0.244718   2513.54    0.0  \n",
            "3 -0.515950 -0.165316  0.048424   5384.44    0.0  \n",
            "4  1.071126  0.023712  0.419117  14278.97    0.0  \n",
            "\n",
            "[5 rows x 31 columns]\n"
          ]
        }
      ],
      "source": [
        "# Display the first few rows of the dataset\n",
        "print(\"\\nFirst few rows of the dataset:\")\n",
        "print(df.head())"
      ]
    },
    {
      "cell_type": "code",
      "execution_count": 6,
      "metadata": {
        "colab": {
          "base_uri": "https://localhost:8080/"
        },
        "id": "WaX0QD-OKdCm",
        "outputId": "5b81ac8e-244d-4aa1-85fc-71cc73dc2496"
      },
      "outputs": [
        {
          "output_type": "stream",
          "name": "stdout",
          "text": [
            "\n",
            "Missing values in each column:\n",
            "V28       1\n",
            "Amount    1\n",
            "Class     1\n",
            "dtype: int64\n"
          ]
        }
      ],
      "source": [
        "# Check for missing values\n",
        "missing_values = df.isnull().sum()\n",
        "print(\"\\nMissing values in each column:\")\n",
        "print(missing_values[missing_values > 0])"
      ]
    },
    {
      "cell_type": "code",
      "execution_count": 7,
      "metadata": {
        "id": "knhoAZ8VMGRi"
      },
      "outputs": [],
      "source": [
        "#Drop rows with missing values in 'Class'\n",
        "df.dropna(subset=['Class'], inplace=True)"
      ]
    },
    {
      "cell_type": "code",
      "execution_count": 8,
      "metadata": {
        "id": "_bFLIOeZKj5p"
      },
      "outputs": [],
      "source": [
        "# Standardizing the 'Amount' column\n",
        "scaler = StandardScaler()\n",
        "df['Amount'] = scaler.fit_transform(df['Amount'].values.reshape(-1, 1))"
      ]
    },
    {
      "cell_type": "code",
      "execution_count": 9,
      "metadata": {
        "id": "7w8vGxMhKnnC"
      },
      "outputs": [],
      "source": [
        "# Dropping the 'Time' column if it exists\n",
        "if 'Time' in df.columns:\n",
        "    df = df.drop(['Time'], axis=1)"
      ]
    },
    {
      "cell_type": "code",
      "execution_count": 10,
      "metadata": {
        "colab": {
          "base_uri": "https://localhost:8080/"
        },
        "id": "iEh52qeyS5Eh",
        "outputId": "2014ad0d-0141-4b0e-82c8-4572f5330fd0"
      },
      "outputs": [
        {
          "output_type": "stream",
          "name": "stdout",
          "text": [
            "Shape of DataFrame: (12881, 31)\n"
          ]
        }
      ],
      "source": [
        "# Display the shape of the DataFrame\n",
        "print(\"Shape of DataFrame:\", df.shape)"
      ]
    },
    {
      "cell_type": "code",
      "execution_count": 11,
      "metadata": {
        "colab": {
          "base_uri": "https://localhost:8080/"
        },
        "id": "eZIjE-q2S3tL",
        "outputId": "01838c38-0811-41fd-8d93-8bb77c32a0bd"
      },
      "outputs": [
        {
          "output_type": "stream",
          "name": "stdout",
          "text": [
            "\n",
            "Class distribution:\n",
            "Class\n",
            "0.0    12825\n",
            "1.0       56\n",
            "Name: count, dtype: int64\n"
          ]
        }
      ],
      "source": [
        "# Display the distribution of the 'Class' column\n",
        "print(\"\\nClass distribution:\")\n",
        "print(df['Class'].value_counts())"
      ]
    },
    {
      "cell_type": "code",
      "execution_count": 12,
      "metadata": {
        "colab": {
          "base_uri": "https://localhost:8080/",
          "height": 718
        },
        "id": "h1SQUceBcOTE",
        "outputId": "7a238c36-5da7-4147-e9d4-8feb9fc248f1"
      },
      "outputs": [
        {
          "output_type": "display_data",
          "data": {
            "text/plain": [
              "<Figure size 1400x800 with 1 Axes>"
            ],
            "image/png": "[encoded data removed]"
          },
          "metadata": {}
        }
      ],
      "source": [
        "# Plot the distribution of the 'Class' column\n",
        "count_classes = pd.value_counts(df['Class'], sort=True)\n",
        "count_classes.plot(kind='bar', rot=0)\n",
        "plt.title(\"Transaction Class Distribution\")\n",
        "plt.xticks(range(2), LABELS)\n",
        "plt.xlabel(\"Class\")\n",
        "plt.ylabel(\"Frequency\")\n",
        "plt.show()"
      ]
    },
    {
      "cell_type": "code",
      "execution_count": 13,
      "metadata": {
        "id": "tHLF6JySKqRh"
      },
      "outputs": [],
      "source": [
        "# Create independent and dependent features\n",
        "columns = [c for c in df.columns if c != \"Class\"]\n",
        "X = df[columns]\n",
        "Y = df['Class']"
      ]
    },
    {
      "cell_type": "code",
      "execution_count": 14,
      "metadata": {
        "colab": {
          "base_uri": "https://localhost:8080/"
        },
        "id": "Ud9StzkCcYZT",
        "outputId": "c59759bb-57f2-4115-88ce-f93c42f5d3ed"
      },
      "outputs": [
        {
          "output_type": "stream",
          "name": "stdout",
          "text": [
            "Shape of X: (12881, 30)\n",
            "Shape of Y: (12881,)\n"
          ]
        }
      ],
      "source": [
        "# Print the shapes of X and Y\n",
        "print(\"Shape of X:\", X.shape)\n",
        "print(\"Shape of Y:\", Y.shape)"
      ]
    },
    {
      "cell_type": "code",
      "execution_count": 15,
      "metadata": {
        "colab": {
          "base_uri": "https://localhost:8080/"
        },
        "id": "b8UEkJpccbfD",
        "outputId": "d40ea8d3-f3ce-474a-9cd6-d4412875d99c"
      },
      "outputs": [
        {
          "output_type": "stream",
          "name": "stdout",
          "text": [
            "(56, 31) (12825, 31)\n"
          ]
        }
      ],
      "source": [
        "# Get the Fraud and Normal datasets\n",
        "fraud = df[df['Class'] == 1]\n",
        "normal = df[df['Class'] == 0]\n",
        "print(fraud.shape, normal.shape)"
      ]
    },
    {
      "cell_type": "code",
      "execution_count": 16,
      "metadata": {
        "id": "Wh67MzOCA0D4"
      },
      "outputs": [],
      "source": [
        "# Split the dataset into training and testing sets\n",
        "X_train, X_test, y_train, y_test = train_test_split(X, Y, test_size=0.2, random_state=42)"
      ]
    },
    {
      "cell_type": "code",
      "execution_count": 17,
      "metadata": {
        "colab": {
          "base_uri": "https://localhost:8080/"
        },
        "id": "OKGFWAvqcnBT",
        "outputId": "afa9b969-a131-4081-c48d-0e37211f98c9"
      },
      "outputs": [
        {
          "output_type": "stream",
          "name": "stdout",
          "text": [
            "Shape of X_res: (25602, 30)\n",
            "Shape of y_res: (25602,)\n"
          ]
        }
      ],
      "source": [
        "# Implementing Oversampling for Handling Imbalanced Data\n",
        "smk = SMOTETomek(random_state=42)\n",
        "X_res, y_res = smk.fit_resample(X, Y)\n",
        "print(\"Shape of X_res:\", X_res.shape)\n",
        "print(\"Shape of y_res:\", y_res.shape)"
      ]
    },
    {
      "cell_type": "code",
      "execution_count": 18,
      "metadata": {
        "colab": {
          "base_uri": "https://localhost:8080/"
        },
        "id": "zAqMZxJecrIz",
        "outputId": "afa9357e-10e7-4c2d-81a9-b395512d88e2"
      },
      "outputs": [
        {
          "output_type": "stream",
          "name": "stdout",
          "text": [
            "Original dataset shape: Counter({0.0: 12825, 1.0: 56})\n",
            "Resampled dataset shape: Counter({0.0: 12801, 1.0: 12801})\n"
          ]
        }
      ],
      "source": [
        "# Display the distribution of the resampled dataset\n",
        "print('Original dataset shape:', Counter(Y))\n",
        "print('Resampled dataset shape:', Counter(y_res))"
      ]
    },
    {
      "cell_type": "code",
      "execution_count": 19,
      "metadata": {
        "id": "DxHUQ55THUtl"
      },
      "outputs": [],
      "source": [
        "#Feature scaling\n",
        "scaler = StandardScaler()\n",
        "X_res = scaler.fit_transform(X_res)\n",
        "X_test = scaler.transform(X_test)"
      ]
    },
    {
      "cell_type": "markdown",
      "metadata": {
        "id": "1FQOaYiG6_Wk"
      },
      "source": [
        "TRAINING MODEL"
      ]
    },
    {
      "cell_type": "markdown",
      "metadata": {
        "id": "D-NrQApd_31p"
      },
      "source": [
        "**LOGISTIC** **REGRESSION** **MODEL**"
      ]
    },
    {
      "cell_type": "code",
      "execution_count": 20,
      "metadata": {
        "id": "kDdn1jDp_u8E"
      },
      "outputs": [],
      "source": [
        "# Initialize a dictionary to store the accuracies of each model\n",
        "model_accuracies = {}"
      ]
    },
    {
      "cell_type": "code",
      "execution_count": 21,
      "metadata": {
        "colab": {
          "base_uri": "https://localhost:8080/",
          "height": 74
        },
        "id": "Afx7wkF4BXAR",
        "outputId": "01a6d768-7d55-432f-b95e-8ab2d6d86a3f"
      },
      "outputs": [
        {
          "output_type": "execute_result",
          "data": {
            "text/plain": [
              "LogisticRegression()"
            ],
            "text/html": [
              "<style>#sk-container-id-1 {color: black;background-color: white;}#sk-container-id-1 pre{padding: 0;}#sk-container-id-1 div.sk-toggleable {background-color: white;}#sk-container-id-1 label.sk-toggleable__label {cursor: pointer;display: block;width: 100%;margin-bottom: 0;padding: 0.3em;box-sizing: border-box;text-align: center;}#sk-container-id-1 label.sk-toggleable__label-arrow:before {content: \"▸\";float: left;margin-right: 0.25em;color: #696969;}#sk-container-id-1 label.sk-toggleable__label-arrow:hover:before {color: black;}#sk-container-id-1 div.sk-estimator:hover label.sk-toggleable__label-arrow:before {color: black;}#sk-container-id-1 div.sk-toggleable__content {max-height: 0;max-width: 0;overflow: hidden;text-align: left;background-color: #f0f8ff;}#sk-container-id-1 div.sk-toggleable__content pre {margin: 0.2em;color: black;border-radius: 0.25em;background-color: #f0f8ff;}#sk-container-id-1 input.sk-toggleable__control:checked~div.sk-toggleable__content {max-height: 200px;max-width: 100%;overflow: auto;}#sk-container-id-1 input.sk-toggleable__control:checked~label.sk-toggleable__label-arrow:before {content: \"▾\";}#sk-container-id-1 div.sk-estimator input.sk-toggleable__control:checked~label.sk-toggleable__label {background-color: #d4ebff;}#sk-container-id-1 div.sk-label input.sk-toggleable__control:checked~label.sk-toggleable__label {background-color: #d4ebff;}#sk-container-id-1 input.sk-hidden--visually {border: 0;clip: rect(1px 1px 1px 1px);clip: rect(1px, 1px, 1px, 1px);height: 1px;margin: -1px;overflow: hidden;padding: 0;position: absolute;width: 1px;}#sk-container-id-1 div.sk-estimator {font-family: monospace;background-color: #f0f8ff;border: 1px dotted black;border-radius: 0.25em;box-sizing: border-box;margin-bottom: 0.5em;}#sk-container-id-1 div.sk-estimator:hover {background-color: #d4ebff;}#sk-container-id-1 div.sk-parallel-item::after {content: \"\";width: 100%;border-bottom: 1px solid gray;flex-grow: 1;}#sk-container-id-1 div.sk-label:hover label.sk-toggleable__label {background-color: #d4ebff;}#sk-container-id-1 div.sk-serial::before {content: \"\";position: absolute;border-left: 1px solid gray;box-sizing: border-box;top: 0;bottom: 0;left: 50%;z-index: 0;}#sk-container-id-1 div.sk-serial {display: flex;flex-direction: column;align-items: center;background-color: white;padding-right: 0.2em;padding-left: 0.2em;position: relative;}#sk-container-id-1 div.sk-item {position: relative;z-index: 1;}#sk-container-id-1 div.sk-parallel {display: flex;align-items: stretch;justify-content: center;background-color: white;position: relative;}#sk-container-id-1 div.sk-item::before, #sk-container-id-1 div.sk-parallel-item::before {content: \"\";position: absolute;border-left: 1px solid gray;box-sizing: border-box;top: 0;bottom: 0;left: 50%;z-index: -1;}#sk-container-id-1 div.sk-parallel-item {display: flex;flex-direction: column;z-index: 1;position: relative;background-color: white;}#sk-container-id-1 div.sk-parallel-item:first-child::after {align-self: flex-end;width: 50%;}#sk-container-id-1 div.sk-parallel-item:last-child::after {align-self: flex-start;width: 50%;}#sk-container-id-1 div.sk-parallel-item:only-child::after {width: 0;}#sk-container-id-1 div.sk-dashed-wrapped {border: 1px dashed gray;margin: 0 0.4em 0.5em 0.4em;box-sizing: border-box;padding-bottom: 0.4em;background-color: white;}#sk-container-id-1 div.sk-label label {font-family: monospace;font-weight: bold;display: inline-block;line-height: 1.2em;}#sk-container-id-1 div.sk-label-container {text-align: center;}#sk-container-id-1 div.sk-container {/* jupyter's `normalize.less` sets `[hidden] { display: none; }` but bootstrap.min.css set `[hidden] { display: none !important; }` so we also need the `!important` here to be able to override the default hidden behavior on the sphinx rendered scikit-learn.org. See: https://github.com/scikit-learn/scikit-learn/issues/21755 */display: inline-block !important;position: relative;}#sk-container-id-1 div.sk-text-repr-fallback {display: none;}</style><div id=\"sk-container-id-1\" class=\"sk-top-container\"><div class=\"sk-text-repr-fallback\"><pre>LogisticRegression()</pre><b>In a Jupyter environment, please rerun this cell to show the HTML representation or trust the notebook. <br />On GitHub, the HTML representation is unable to render, please try loading this page with nbviewer.org.</b></div><div class=\"sk-container\" hidden><div class=\"sk-item\"><div class=\"sk-estimator sk-toggleable\"><input class=\"sk-toggleable__control sk-hidden--visually\" id=\"sk-estimator-id-1\" type=\"checkbox\" checked><label for=\"sk-estimator-id-1\" class=\"sk-toggleable__label sk-toggleable__label-arrow\">LogisticRegression</label><div class=\"sk-toggleable__content\"><pre>LogisticRegression()</pre></div></div></div></div></div>"
            ]
          },
          "metadata": {},
          "execution_count": 21
        }
      ],
      "source": [
        "# Train the logistic regression model\n",
        "log_reg = LogisticRegression()\n",
        "log_reg.fit(X_res, y_res)"
      ]
    },
    {
      "cell_type": "code",
      "execution_count": 22,
      "metadata": {
        "id": "N-t0SjFkBgeK"
      },
      "outputs": [],
      "source": [
        "# Predict on the test set\n",
        "y_pred_lr = log_reg.predict(X_test)"
      ]
    },
    {
      "cell_type": "code",
      "execution_count": 23,
      "metadata": {
        "colab": {
          "base_uri": "https://localhost:8080/"
        },
        "id": "yB6kRyrFBljn",
        "outputId": "29982283-4160-4e06-ce6e-13e5a30abb5b"
      },
      "outputs": [
        {
          "output_type": "stream",
          "name": "stdout",
          "text": [
            "Logistic Regression Accuracy: 0.9945673263484672\n",
            "Confusion Matrix:\n",
            "[[2555   14]\n",
            " [   0    8]]\n",
            "Classification Report:\n",
            "              precision    recall  f1-score   support\n",
            "\n",
            "         0.0       1.00      0.99      1.00      2569\n",
            "         1.0       0.36      1.00      0.53         8\n",
            "\n",
            "    accuracy                           0.99      2577\n",
            "   macro avg       0.68      1.00      0.77      2577\n",
            "weighted avg       1.00      0.99      1.00      2577\n",
            "\n"
          ]
        }
      ],
      "source": [
        "# Evaluate the model\n",
        "model_accuracies['LR'] = accuracy_score(y_test, y_pred_lr)\n",
        "print('Logistic Regression Accuracy:', model_accuracies['LR'])\n",
        "\n",
        "conf_matrix = confusion_matrix(y_test, y_pred_lr)\n",
        "print('Confusion Matrix:')\n",
        "print(conf_matrix)\n",
        "\n",
        "class_report = classification_report(y_test, y_pred_lr)\n",
        "print('Classification Report:')\n",
        "print(class_report)"
      ]
    },
    {
      "cell_type": "code",
      "execution_count": 24,
      "metadata": {
        "colab": {
          "base_uri": "https://localhost:8080/"
        },
        "id": "lU4fQwRMC7eg",
        "outputId": "990c5696-c386-4b20-8b6e-0ba3de64569b"
      },
      "outputs": [
        {
          "output_type": "stream",
          "name": "stdout",
          "text": [
            "Requirement already satisfied: scikit-learn in /usr/local/lib/python3.10/dist-packages (1.2.2)\n",
            "Requirement already satisfied: imbalanced-learn in /usr/local/lib/python3.10/dist-packages (0.10.1)\n",
            "Requirement already satisfied: numpy>=1.17.3 in /usr/local/lib/python3.10/dist-packages (from scikit-learn) (1.25.2)\n",
            "Requirement already satisfied: scipy>=1.3.2 in /usr/local/lib/python3.10/dist-packages (from scikit-learn) (1.11.4)\n",
            "Requirement already satisfied: joblib>=1.1.1 in /usr/local/lib/python3.10/dist-packages (from scikit-learn) (1.4.2)\n",
            "Requirement already satisfied: threadpoolctl>=2.0.0 in /usr/local/lib/python3.10/dist-packages (from scikit-learn) (3.5.0)\n"
          ]
        }
      ],
      "source": [
        "!pip install scikit-learn imbalanced-learn"
      ]
    },
    {
      "cell_type": "code",
      "execution_count": 25,
      "metadata": {
        "id": "mr8UkrRQC6Sg"
      },
      "outputs": [],
      "source": [
        "from sklearn.neighbors import KNeighborsClassifier\n",
        "from sklearn.tree import DecisionTreeClassifier\n",
        "from sklearn.naive_bayes import GaussianNB\n",
        "from sklearn.svm import SVC"
      ]
    },
    {
      "cell_type": "markdown",
      "metadata": {
        "id": "EHei_9GQDQmy"
      },
      "source": [
        "**k-Nearest Neighbors (k-NN)**"
      ]
    },
    {
      "cell_type": "code",
      "execution_count": 26,
      "metadata": {
        "colab": {
          "base_uri": "https://localhost:8080/",
          "height": 74
        },
        "id": "3W-3L_VhDTBk",
        "outputId": "6bb21510-ecad-4692-9b46-1feb0185742c"
      },
      "outputs": [
        {
          "output_type": "execute_result",
          "data": {
            "text/plain": [
              "KNeighborsClassifier()"
            ],
            "text/html": [
              "<style>#sk-container-id-2 {color: black;background-color: white;}#sk-container-id-2 pre{padding: 0;}#sk-container-id-2 div.sk-toggleable {background-color: white;}#sk-container-id-2 label.sk-toggleable__label {cursor: pointer;display: block;width: 100%;margin-bottom: 0;padding: 0.3em;box-sizing: border-box;text-align: center;}#sk-container-id-2 label.sk-toggleable__label-arrow:before {content: \"▸\";float: left;margin-right: 0.25em;color: #696969;}#sk-container-id-2 label.sk-toggleable__label-arrow:hover:before {color: black;}#sk-container-id-2 div.sk-estimator:hover label.sk-toggleable__label-arrow:before {color: black;}#sk-container-id-2 div.sk-toggleable__content {max-height: 0;max-width: 0;overflow: hidden;text-align: left;background-color: #f0f8ff;}#sk-container-id-2 div.sk-toggleable__content pre {margin: 0.2em;color: black;border-radius: 0.25em;background-color: #f0f8ff;}#sk-container-id-2 input.sk-toggleable__control:checked~div.sk-toggleable__content {max-height: 200px;max-width: 100%;overflow: auto;}#sk-container-id-2 input.sk-toggleable__control:checked~label.sk-toggleable__label-arrow:before {content: \"▾\";}#sk-container-id-2 div.sk-estimator input.sk-toggleable__control:checked~label.sk-toggleable__label {background-color: #d4ebff;}#sk-container-id-2 div.sk-label input.sk-toggleable__control:checked~label.sk-toggleable__label {background-color: #d4ebff;}#sk-container-id-2 input.sk-hidden--visually {border: 0;clip: rect(1px 1px 1px 1px);clip: rect(1px, 1px, 1px, 1px);height: 1px;margin: -1px;overflow: hidden;padding: 0;position: absolute;width: 1px;}#sk-container-id-2 div.sk-estimator {font-family: monospace;background-color: #f0f8ff;border: 1px dotted black;border-radius: 0.25em;box-sizing: border-box;margin-bottom: 0.5em;}#sk-container-id-2 div.sk-estimator:hover {background-color: #d4ebff;}#sk-container-id-2 div.sk-parallel-item::after {content: \"\";width: 100%;border-bottom: 1px solid gray;flex-grow: 1;}#sk-container-id-2 div.sk-label:hover label.sk-toggleable__label {background-color: #d4ebff;}#sk-container-id-2 div.sk-serial::before {content: \"\";position: absolute;border-left: 1px solid gray;box-sizing: border-box;top: 0;bottom: 0;left: 50%;z-index: 0;}#sk-container-id-2 div.sk-serial {display: flex;flex-direction: column;align-items: center;background-color: white;padding-right: 0.2em;padding-left: 0.2em;position: relative;}#sk-container-id-2 div.sk-item {position: relative;z-index: 1;}#sk-container-id-2 div.sk-parallel {display: flex;align-items: stretch;justify-content: center;background-color: white;position: relative;}#sk-container-id-2 div.sk-item::before, #sk-container-id-2 div.sk-parallel-item::before {content: \"\";position: absolute;border-left: 1px solid gray;box-sizing: border-box;top: 0;bottom: 0;left: 50%;z-index: -1;}#sk-container-id-2 div.sk-parallel-item {display: flex;flex-direction: column;z-index: 1;position: relative;background-color: white;}#sk-container-id-2 div.sk-parallel-item:first-child::after {align-self: flex-end;width: 50%;}#sk-container-id-2 div.sk-parallel-item:last-child::after {align-self: flex-start;width: 50%;}#sk-container-id-2 div.sk-parallel-item:only-child::after {width: 0;}#sk-container-id-2 div.sk-dashed-wrapped {border: 1px dashed gray;margin: 0 0.4em 0.5em 0.4em;box-sizing: border-box;padding-bottom: 0.4em;background-color: white;}#sk-container-id-2 div.sk-label label {font-family: monospace;font-weight: bold;display: inline-block;line-height: 1.2em;}#sk-container-id-2 div.sk-label-container {text-align: center;}#sk-container-id-2 div.sk-container {/* jupyter's `normalize.less` sets `[hidden] { display: none; }` but bootstrap.min.css set `[hidden] { display: none !important; }` so we also need the `!important` here to be able to override the default hidden behavior on the sphinx rendered scikit-learn.org. See: https://github.com/scikit-learn/scikit-learn/issues/21755 */display: inline-block !important;position: relative;}#sk-container-id-2 div.sk-text-repr-fallback {display: none;}</style><div id=\"sk-container-id-2\" class=\"sk-top-container\"><div class=\"sk-text-repr-fallback\"><pre>KNeighborsClassifier()</pre><b>In a Jupyter environment, please rerun this cell to show the HTML representation or trust the notebook. <br />On GitHub, the HTML representation is unable to render, please try loading this page with nbviewer.org.</b></div><div class=\"sk-container\" hidden><div class=\"sk-item\"><div class=\"sk-estimator sk-toggleable\"><input class=\"sk-toggleable__control sk-hidden--visually\" id=\"sk-estimator-id-2\" type=\"checkbox\" checked><label for=\"sk-estimator-id-2\" class=\"sk-toggleable__label sk-toggleable__label-arrow\">KNeighborsClassifier</label><div class=\"sk-toggleable__content\"><pre>KNeighborsClassifier()</pre></div></div></div></div></div>"
            ]
          },
          "metadata": {},
          "execution_count": 26
        }
      ],
      "source": [
        "# Train k-NN model\n",
        "knn = KNeighborsClassifier(n_neighbors=5)\n",
        "knn.fit(X_res, y_res)"
      ]
    },
    {
      "cell_type": "code",
      "execution_count": 27,
      "metadata": {
        "id": "8zkSzt2NDYEc"
      },
      "outputs": [],
      "source": [
        "# Predict\n",
        "y_pred_knn = knn.predict(X_test)"
      ]
    },
    {
      "cell_type": "code",
      "execution_count": 28,
      "metadata": {
        "colab": {
          "base_uri": "https://localhost:8080/"
        },
        "id": "rfHtOSQrD-eU",
        "outputId": "64ee22f6-c6c1-462a-edcd-32044dd4a47b"
      },
      "outputs": [
        {
          "output_type": "stream",
          "name": "stdout",
          "text": [
            "k-NN Accuracy: 0.9988358556461001\n",
            "k-NN Confusion Matrix:\n",
            "[[2566    3]\n",
            " [   0    8]]\n",
            "k-NN Classification Report:\n",
            "              precision    recall  f1-score   support\n",
            "\n",
            "         0.0       1.00      1.00      1.00      2569\n",
            "         1.0       0.73      1.00      0.84         8\n",
            "\n",
            "    accuracy                           1.00      2577\n",
            "   macro avg       0.86      1.00      0.92      2577\n",
            "weighted avg       1.00      1.00      1.00      2577\n",
            "\n"
          ]
        }
      ],
      "source": [
        "# evaluate\n",
        "model_accuracies['k-NN'] = accuracy_score(y_test, y_pred_knn)\n",
        "print('k-NN Accuracy:', model_accuracies['k-NN'])\n",
        "\n",
        "print('k-NN Confusion Matrix:')\n",
        "print(confusion_matrix(y_test, y_pred_knn))\n",
        "print('k-NN Classification Report:')\n",
        "print(classification_report(y_test, y_pred_knn))"
      ]
    },
    {
      "cell_type": "markdown",
      "metadata": {
        "id": "zG5y5G3NDnBN"
      },
      "source": [
        "**Decision Trees**"
      ]
    },
    {
      "cell_type": "code",
      "execution_count": 29,
      "metadata": {
        "colab": {
          "base_uri": "https://localhost:8080/",
          "height": 74
        },
        "id": "DMZO-6SzDkzl",
        "outputId": "fea49d2d-9bb6-47f6-e0cf-dcee2d3d34d7"
      },
      "outputs": [
        {
          "output_type": "execute_result",
          "data": {
            "text/plain": [
              "DecisionTreeClassifier(random_state=42)"
            ],
            "text/html": [
              "<style>#sk-container-id-3 {color: black;background-color: white;}#sk-container-id-3 pre{padding: 0;}#sk-container-id-3 div.sk-toggleable {background-color: white;}#sk-container-id-3 label.sk-toggleable__label {cursor: pointer;display: block;width: 100%;margin-bottom: 0;padding: 0.3em;box-sizing: border-box;text-align: center;}#sk-container-id-3 label.sk-toggleable__label-arrow:before {content: \"▸\";float: left;margin-right: 0.25em;color: #696969;}#sk-container-id-3 label.sk-toggleable__label-arrow:hover:before {color: black;}#sk-container-id-3 div.sk-estimator:hover label.sk-toggleable__label-arrow:before {color: black;}#sk-container-id-3 div.sk-toggleable__content {max-height: 0;max-width: 0;overflow: hidden;text-align: left;background-color: #f0f8ff;}#sk-container-id-3 div.sk-toggleable__content pre {margin: 0.2em;color: black;border-radius: 0.25em;background-color: #f0f8ff;}#sk-container-id-3 input.sk-toggleable__control:checked~div.sk-toggleable__content {max-height: 200px;max-width: 100%;overflow: auto;}#sk-container-id-3 input.sk-toggleable__control:checked~label.sk-toggleable__label-arrow:before {content: \"▾\";}#sk-container-id-3 div.sk-estimator input.sk-toggleable__control:checked~label.sk-toggleable__label {background-color: #d4ebff;}#sk-container-id-3 div.sk-label input.sk-toggleable__control:checked~label.sk-toggleable__label {background-color: #d4ebff;}#sk-container-id-3 input.sk-hidden--visually {border: 0;clip: rect(1px 1px 1px 1px);clip: rect(1px, 1px, 1px, 1px);height: 1px;margin: -1px;overflow: hidden;padding: 0;position: absolute;width: 1px;}#sk-container-id-3 div.sk-estimator {font-family: monospace;background-color: #f0f8ff;border: 1px dotted black;border-radius: 0.25em;box-sizing: border-box;margin-bottom: 0.5em;}#sk-container-id-3 div.sk-estimator:hover {background-color: #d4ebff;}#sk-container-id-3 div.sk-parallel-item::after {content: \"\";width: 100%;border-bottom: 1px solid gray;flex-grow: 1;}#sk-container-id-3 div.sk-label:hover label.sk-toggleable__label {background-color: #d4ebff;}#sk-container-id-3 div.sk-serial::before {content: \"\";position: absolute;border-left: 1px solid gray;box-sizing: border-box;top: 0;bottom: 0;left: 50%;z-index: 0;}#sk-container-id-3 div.sk-serial {display: flex;flex-direction: column;align-items: center;background-color: white;padding-right: 0.2em;padding-left: 0.2em;position: relative;}#sk-container-id-3 div.sk-item {position: relative;z-index: 1;}#sk-container-id-3 div.sk-parallel {display: flex;align-items: stretch;justify-content: center;background-color: white;position: relative;}#sk-container-id-3 div.sk-item::before, #sk-container-id-3 div.sk-parallel-item::before {content: \"\";position: absolute;border-left: 1px solid gray;box-sizing: border-box;top: 0;bottom: 0;left: 50%;z-index: -1;}#sk-container-id-3 div.sk-parallel-item {display: flex;flex-direction: column;z-index: 1;position: relative;background-color: white;}#sk-container-id-3 div.sk-parallel-item:first-child::after {align-self: flex-end;width: 50%;}#sk-container-id-3 div.sk-parallel-item:last-child::after {align-self: flex-start;width: 50%;}#sk-container-id-3 div.sk-parallel-item:only-child::after {width: 0;}#sk-container-id-3 div.sk-dashed-wrapped {border: 1px dashed gray;margin: 0 0.4em 0.5em 0.4em;box-sizing: border-box;padding-bottom: 0.4em;background-color: white;}#sk-container-id-3 div.sk-label label {font-family: monospace;font-weight: bold;display: inline-block;line-height: 1.2em;}#sk-container-id-3 div.sk-label-container {text-align: center;}#sk-container-id-3 div.sk-container {/* jupyter's `normalize.less` sets `[hidden] { display: none; }` but bootstrap.min.css set `[hidden] { display: none !important; }` so we also need the `!important` here to be able to override the default hidden behavior on the sphinx rendered scikit-learn.org. See: https://github.com/scikit-learn/scikit-learn/issues/21755 */display: inline-block !important;position: relative;}#sk-container-id-3 div.sk-text-repr-fallback {display: none;}</style><div id=\"sk-container-id-3\" class=\"sk-top-container\"><div class=\"sk-text-repr-fallback\"><pre>DecisionTreeClassifier(random_state=42)</pre><b>In a Jupyter environment, please rerun this cell to show the HTML representation or trust the notebook. <br />On GitHub, the HTML representation is unable to render, please try loading this page with nbviewer.org.</b></div><div class=\"sk-container\" hidden><div class=\"sk-item\"><div class=\"sk-estimator sk-toggleable\"><input class=\"sk-toggleable__control sk-hidden--visually\" id=\"sk-estimator-id-3\" type=\"checkbox\" checked><label for=\"sk-estimator-id-3\" class=\"sk-toggleable__label sk-toggleable__label-arrow\">DecisionTreeClassifier</label><div class=\"sk-toggleable__content\"><pre>DecisionTreeClassifier(random_state=42)</pre></div></div></div></div></div>"
            ]
          },
          "metadata": {},
          "execution_count": 29
        }
      ],
      "source": [
        "# Train Decision Tree model\n",
        "dt = DecisionTreeClassifier(random_state=42)\n",
        "dt.fit(X_res, y_res)"
      ]
    },
    {
      "cell_type": "code",
      "execution_count": 30,
      "metadata": {
        "id": "Nid6bA3_Dt_R"
      },
      "outputs": [],
      "source": [
        "# Predict\n",
        "y_pred_dt = dt.predict(X_test)"
      ]
    },
    {
      "cell_type": "code",
      "execution_count": 31,
      "metadata": {
        "colab": {
          "base_uri": "https://localhost:8080/"
        },
        "id": "Dp9TEVmLEMki",
        "outputId": "2fe05b72-8d82-42d0-d33e-05da4a60923c"
      },
      "outputs": [
        {
          "output_type": "stream",
          "name": "stdout",
          "text": [
            "Decision Tree Accuracy: 1.0\n",
            "Decision Tree Confusion Matrix:\n",
            "[[2569    0]\n",
            " [   0    8]]\n",
            "Decision Tree Classification Report:\n",
            "              precision    recall  f1-score   support\n",
            "\n",
            "         0.0       1.00      1.00      1.00      2569\n",
            "         1.0       1.00      1.00      1.00         8\n",
            "\n",
            "    accuracy                           1.00      2577\n",
            "   macro avg       1.00      1.00      1.00      2577\n",
            "weighted avg       1.00      1.00      1.00      2577\n",
            "\n"
          ]
        }
      ],
      "source": [
        "# evaluate\n",
        "model_accuracies['Decision Tree'] = accuracy_score(y_test, y_pred_dt)\n",
        "print('Decision Tree Accuracy:', model_accuracies['Decision Tree'])\n",
        "\n",
        "print('Decision Tree Confusion Matrix:')\n",
        "print(confusion_matrix(y_test, y_pred_dt))\n",
        "print('Decision Tree Classification Report:')\n",
        "print(classification_report(y_test, y_pred_dt))"
      ]
    },
    {
      "cell_type": "markdown",
      "metadata": {
        "id": "QPSbwW1yEaxt"
      },
      "source": [
        "**Naive Bayes**"
      ]
    },
    {
      "cell_type": "code",
      "execution_count": 32,
      "metadata": {
        "colab": {
          "base_uri": "https://localhost:8080/"
        },
        "id": "4VaMdsTGEcn5",
        "outputId": "ff35c30c-0937-422a-9285-1ba8a14e7106"
      },
      "outputs": [
        {
          "output_type": "stream",
          "name": "stdout",
          "text": [
            "Naive Bayes Accuracy: 0.9918509895227008\n",
            "Naive Bayes Confusion Matrix:\n",
            "[[2549   20]\n",
            " [   1    7]]\n",
            "Naive Bayes Classification Report:\n",
            "              precision    recall  f1-score   support\n",
            "\n",
            "         0.0       1.00      0.99      1.00      2569\n",
            "         1.0       0.26      0.88      0.40         8\n",
            "\n",
            "    accuracy                           0.99      2577\n",
            "   macro avg       0.63      0.93      0.70      2577\n",
            "weighted avg       1.00      0.99      0.99      2577\n",
            "\n"
          ]
        }
      ],
      "source": [
        "# Train Naive Bayes model\n",
        "nb = GaussianNB()\n",
        "nb.fit(X_res, y_res)\n",
        "\n",
        "# Predict and evaluate\n",
        "y_pred_nb = nb.predict(X_test)\n",
        "\n",
        "model_accuracies['Naive Bayes'] = accuracy_score(y_test, y_pred_nb)\n",
        "print('Naive Bayes Accuracy:', model_accuracies['Naive Bayes'])\n",
        "print('Naive Bayes Confusion Matrix:')\n",
        "print(confusion_matrix(y_test, y_pred_nb))\n",
        "print('Naive Bayes Classification Report:')\n",
        "print(classification_report(y_test, y_pred_nb))"
      ]
    },
    {
      "cell_type": "markdown",
      "metadata": {
        "id": "m7oIIjQ8Emk1"
      },
      "source": [
        "**Support Vector Machine (SVM)**"
      ]
    },
    {
      "cell_type": "code",
      "execution_count": 33,
      "metadata": {
        "id": "Dfa90IqYEtQs",
        "colab": {
          "base_uri": "https://localhost:8080/"
        },
        "outputId": "f05c3c0b-3a30-4132-fa0d-811173736587"
      },
      "outputs": [
        {
          "output_type": "stream",
          "name": "stdout",
          "text": [
            "SVM Accuracy: 0.9941792782305006\n",
            "SVM Confusion Matrix:\n",
            "[[2554   15]\n",
            " [   0    8]]\n",
            "SVM Classification Report:\n",
            "              precision    recall  f1-score   support\n",
            "\n",
            "         0.0       1.00      0.99      1.00      2569\n",
            "         1.0       0.35      1.00      0.52         8\n",
            "\n",
            "    accuracy                           0.99      2577\n",
            "   macro avg       0.67      1.00      0.76      2577\n",
            "weighted avg       1.00      0.99      1.00      2577\n",
            "\n"
          ]
        }
      ],
      "source": [
        "# Train SVM model\n",
        "svm = SVC(kernel='linear', random_state=42)\n",
        "svm.fit(X_res, y_res)\n",
        "\n",
        "# Predict and evaluate\n",
        "y_pred_svm = svm.predict(X_test)\n",
        "\n",
        "model_accuracies['SVM'] = accuracy_score(y_test, y_pred_svm)\n",
        "print('SVM Accuracy:', model_accuracies['SVM'])\n",
        "print('SVM Confusion Matrix:')\n",
        "print(confusion_matrix(y_test, y_pred_svm))\n",
        "print('SVM Classification Report:')\n",
        "print(classification_report(y_test, y_pred_svm))"
      ]
    },
    {
      "cell_type": "markdown",
      "metadata": {
        "id": "Jk3ek2mhGL4O"
      },
      "source": [
        "**COMPARING THE MODELS**"
      ]
    },
    {
      "cell_type": "code",
      "execution_count": 34,
      "metadata": {
        "id": "rB88-jYnGPIh"
      },
      "outputs": [],
      "source": [
        "import matplotlib.pyplot as plt"
      ]
    },
    {
      "cell_type": "code",
      "execution_count": 35,
      "metadata": {
        "id": "MPdgoVaJGyoz",
        "colab": {
          "base_uri": "https://localhost:8080/",
          "height": 648
        },
        "outputId": "82613335-d8f8-4728-8896-d1232c764422"
      },
      "outputs": [
        {
          "output_type": "display_data",
          "data": {
            "text/plain": [
              "<Figure size 1000x600 with 1 Axes>"
            ],
            "image/png": "[encoded data removed]"
          },
          "metadata": {}
        }
      ],
      "source": [
        "# Plot the accuracies in a bar graph\n",
        "plt.figure(figsize=(10, 6))\n",
        "plt.bar(model_accuracies.keys(), model_accuracies.values(), color=['purple', 'gray', 'teal', 'cyan','pink'])\n",
        "plt.xlabel('Model')\n",
        "plt.ylabel('Accuracy')\n",
        "plt.title('Accuracy of Different Models')\n",
        "plt.ylim(0.95, 1.0)  # Set the y-axis limits to be between 0 and 1\n",
        "for i, v in enumerate(model_accuracies.values()):\n",
        "    plt.text(i, v + 0.01, f\"{v:.2f}\", ha='center', va='bottom')\n",
        "plt.show()"
      ]
    },
    {
      "cell_type": "markdown",
      "metadata": {
        "id": "672qFKg1JoyY"
      },
      "source": [
        "In this project, we explored the performance of several classification algorithms, namely **Logistic Regression, k-Nearest Neighbors (k-NN), Decision Trees, Naive Bayes, and Support Vector Machines (SVM),** on a binary classification problem using the Kaggle credit card dataset. To handle the class imbalance in the dataset, we applied the SMOTETomek technique, which combines both oversampling of the minority class and undersampling of the majority class. This preprocessing step ensured a more balanced training dataset, allowing the classifiers to perform more effectively."
      ]
    },
    {
      "cell_type": "markdown",
      "metadata": {
        "id": "Aa-92UREJzTp"
      },
      "source": [
        "We evaluated each model using several metrics, including accuracy, confusion matrix, and classification report (precision, recall, and F1-score).\n",
        "\n",
        "Among the four models evaluated, the **Decision Tree classifier** achieved the highest accuracy. This suggests that the Decision Tree model was able to capture the underlying patterns in the data more effectively than the other models. The Decision Tree classifier's accuracy, combined with its relatively simple interpretability, makes it a strong candidate for this classification problem.\n",
        "\n",
        "The bar graph below visually compares the accuracy of each model, reinforcing the conclusion that the Decision Tree model outperforms the others in terms of accuracy."
      ]
    },
    {
      "cell_type": "markdown",
      "metadata": {
        "id": "GXeKVU1ZKA0e"
      },
      "source": [
        "**Future Work**\n",
        "\n",
        "For future work, it would be beneficial to explore other advanced techniques and algorithms, such as ensemble methods (e.g., Random Forest, Gradient Boosting) and neural networks, to see if they can further improve the classification performance. Additionally, fine-tuning the hyperparameters of each model could yield better results.\n",
        "\n",
        "Furthermore, applying these models to a more complex and larger dataset could provide additional insights into their robustness and scalability. Continual assessment and validation with different datasets and more extensive cross-validation techniques would help in building a more generalized and reliable classification model."
      ]
    }
  ],
  "metadata": {
    "colab": {
      "provenance": []
    },
    "kernelspec": {
      "display_name": "Python 3",
      "name": "python3"
    },
    "language_info": {
      "name": "python"
    }
  },
  "nbformat": 4,
  "nbformat_minor": 0
}